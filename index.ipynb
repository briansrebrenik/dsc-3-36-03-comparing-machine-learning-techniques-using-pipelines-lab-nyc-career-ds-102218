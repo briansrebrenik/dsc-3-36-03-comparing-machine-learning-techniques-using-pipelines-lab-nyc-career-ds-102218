{
 "cells": [
  {
   "cell_type": "markdown",
   "metadata": {},
   "source": [
    "# Comparing Machine Learning Techniques using Pipelines - Lab"
   ]
  },
  {
   "cell_type": "markdown",
   "metadata": {},
   "source": [
    "## Introduction"
   ]
  },
  {
   "cell_type": "markdown",
   "metadata": {},
   "source": [
    "In this lab, you'lll use a Dataset created by Otto group, which was also used in a [Kaggle competition](https://www.kaggle.com/c/otto-group-product-classification-challenge/data).\n",
    "\n",
    "The description of the data set is as follows:\n",
    "\n",
    "The Otto Group is one of the world’s biggest e-commerce companies, with subsidiaries in more than 20 countries, including Crate & Barrel (USA), Otto.de (Germany) and 3 Suisses (France). They are selling millions of products worldwide every day, with several thousand products being added to our product line.\n",
    "\n",
    "A consistent analysis of the performance of our products is crucial. However, due to their global infrastructure, many identical products get classified differently. Therefore, the quality of our product analysis depends heavily on the ability to accurately cluster similar products. The better the classification, the more insights Otto Group can generate about their product range.\n",
    "\n",
    "In this lab, you'll use a data set containing:\n",
    "- A column `id`, which is an anonymous id unique to a product\n",
    "- 93 columns `feat_1`, `feat_2`, ..., `feat_93`, which are the various features of a product\n",
    "- a column `target` - the class of a product\n"
   ]
  },
  {
   "cell_type": "markdown",
   "metadata": {},
   "source": [
    "## Objectives\n",
    "\n",
    "You will be able to:\n",
    "- Compare different classification techniques\n",
    "- Construct pipelines in scikit-learn\n",
    "- Use pipelines in combination with GridSearchCV"
   ]
  },
  {
   "cell_type": "markdown",
   "metadata": {},
   "source": [
    "## The Data Science Workflow"
   ]
  },
  {
   "cell_type": "markdown",
   "metadata": {},
   "source": [
    "You will be following the data science workflow:\n",
    "\n",
    "1. Initial data inspection, exploratory data analysis, and cleaning\n",
    "2. Feature engineering and selection\n",
    "3. create a baseline model\n",
    "4. create a machine learning pipeline and compare results with the baseline model\n",
    "5. Interpret the model and draw conclusions"
   ]
  },
  {
   "cell_type": "markdown",
   "metadata": {},
   "source": [
    "##  Initial data inspection, exploratory data analysis, and cleaning"
   ]
  },
  {
   "cell_type": "markdown",
   "metadata": {},
   "source": [
    "The data is stored in \"otto_group.csv\".\n",
    "\n",
    "Things to do here:\n",
    "- Check for NAs\n",
    "- Check the distributions\n",
    "- Check how many inputs there are\n",
    "- ..."
   ]
  },
  {
   "cell_type": "code",
   "execution_count": 1,
   "metadata": {
    "scrolled": true
   },
   "outputs": [
    {
     "data": {
      "text/html": [
       "<div>\n",
       "<style scoped>\n",
       "    .dataframe tbody tr th:only-of-type {\n",
       "        vertical-align: middle;\n",
       "    }\n",
       "\n",
       "    .dataframe tbody tr th {\n",
       "        vertical-align: top;\n",
       "    }\n",
       "\n",
       "    .dataframe thead th {\n",
       "        text-align: right;\n",
       "    }\n",
       "</style>\n",
       "<table border=\"1\" class=\"dataframe\">\n",
       "  <thead>\n",
       "    <tr style=\"text-align: right;\">\n",
       "      <th></th>\n",
       "      <th>id</th>\n",
       "      <th>feat_1</th>\n",
       "      <th>feat_2</th>\n",
       "      <th>feat_3</th>\n",
       "      <th>feat_4</th>\n",
       "      <th>feat_5</th>\n",
       "      <th>feat_6</th>\n",
       "      <th>feat_7</th>\n",
       "      <th>feat_8</th>\n",
       "      <th>feat_9</th>\n",
       "      <th>...</th>\n",
       "      <th>feat_85</th>\n",
       "      <th>feat_86</th>\n",
       "      <th>feat_87</th>\n",
       "      <th>feat_88</th>\n",
       "      <th>feat_89</th>\n",
       "      <th>feat_90</th>\n",
       "      <th>feat_91</th>\n",
       "      <th>feat_92</th>\n",
       "      <th>feat_93</th>\n",
       "      <th>target</th>\n",
       "    </tr>\n",
       "  </thead>\n",
       "  <tbody>\n",
       "    <tr>\n",
       "      <th>0</th>\n",
       "      <td>1</td>\n",
       "      <td>1</td>\n",
       "      <td>0</td>\n",
       "      <td>0</td>\n",
       "      <td>0</td>\n",
       "      <td>0</td>\n",
       "      <td>0</td>\n",
       "      <td>0</td>\n",
       "      <td>0</td>\n",
       "      <td>0</td>\n",
       "      <td>...</td>\n",
       "      <td>1</td>\n",
       "      <td>0</td>\n",
       "      <td>0</td>\n",
       "      <td>0</td>\n",
       "      <td>0</td>\n",
       "      <td>0</td>\n",
       "      <td>0</td>\n",
       "      <td>0</td>\n",
       "      <td>0</td>\n",
       "      <td>Class_1</td>\n",
       "    </tr>\n",
       "    <tr>\n",
       "      <th>1</th>\n",
       "      <td>2</td>\n",
       "      <td>0</td>\n",
       "      <td>0</td>\n",
       "      <td>0</td>\n",
       "      <td>0</td>\n",
       "      <td>0</td>\n",
       "      <td>0</td>\n",
       "      <td>0</td>\n",
       "      <td>1</td>\n",
       "      <td>0</td>\n",
       "      <td>...</td>\n",
       "      <td>0</td>\n",
       "      <td>0</td>\n",
       "      <td>0</td>\n",
       "      <td>0</td>\n",
       "      <td>0</td>\n",
       "      <td>0</td>\n",
       "      <td>0</td>\n",
       "      <td>0</td>\n",
       "      <td>0</td>\n",
       "      <td>Class_1</td>\n",
       "    </tr>\n",
       "    <tr>\n",
       "      <th>2</th>\n",
       "      <td>3</td>\n",
       "      <td>0</td>\n",
       "      <td>0</td>\n",
       "      <td>0</td>\n",
       "      <td>0</td>\n",
       "      <td>0</td>\n",
       "      <td>0</td>\n",
       "      <td>0</td>\n",
       "      <td>1</td>\n",
       "      <td>0</td>\n",
       "      <td>...</td>\n",
       "      <td>0</td>\n",
       "      <td>0</td>\n",
       "      <td>0</td>\n",
       "      <td>0</td>\n",
       "      <td>0</td>\n",
       "      <td>0</td>\n",
       "      <td>0</td>\n",
       "      <td>0</td>\n",
       "      <td>0</td>\n",
       "      <td>Class_1</td>\n",
       "    </tr>\n",
       "    <tr>\n",
       "      <th>3</th>\n",
       "      <td>4</td>\n",
       "      <td>1</td>\n",
       "      <td>0</td>\n",
       "      <td>0</td>\n",
       "      <td>1</td>\n",
       "      <td>6</td>\n",
       "      <td>1</td>\n",
       "      <td>5</td>\n",
       "      <td>0</td>\n",
       "      <td>0</td>\n",
       "      <td>...</td>\n",
       "      <td>0</td>\n",
       "      <td>1</td>\n",
       "      <td>2</td>\n",
       "      <td>0</td>\n",
       "      <td>0</td>\n",
       "      <td>0</td>\n",
       "      <td>0</td>\n",
       "      <td>0</td>\n",
       "      <td>0</td>\n",
       "      <td>Class_1</td>\n",
       "    </tr>\n",
       "    <tr>\n",
       "      <th>4</th>\n",
       "      <td>5</td>\n",
       "      <td>0</td>\n",
       "      <td>0</td>\n",
       "      <td>0</td>\n",
       "      <td>0</td>\n",
       "      <td>0</td>\n",
       "      <td>0</td>\n",
       "      <td>0</td>\n",
       "      <td>0</td>\n",
       "      <td>0</td>\n",
       "      <td>...</td>\n",
       "      <td>1</td>\n",
       "      <td>0</td>\n",
       "      <td>0</td>\n",
       "      <td>0</td>\n",
       "      <td>0</td>\n",
       "      <td>1</td>\n",
       "      <td>0</td>\n",
       "      <td>0</td>\n",
       "      <td>0</td>\n",
       "      <td>Class_1</td>\n",
       "    </tr>\n",
       "  </tbody>\n",
       "</table>\n",
       "<p>5 rows × 95 columns</p>\n",
       "</div>"
      ],
      "text/plain": [
       "   id  feat_1  feat_2  feat_3  feat_4  feat_5  feat_6  feat_7  feat_8  feat_9  \\\n",
       "0   1       1       0       0       0       0       0       0       0       0   \n",
       "1   2       0       0       0       0       0       0       0       1       0   \n",
       "2   3       0       0       0       0       0       0       0       1       0   \n",
       "3   4       1       0       0       1       6       1       5       0       0   \n",
       "4   5       0       0       0       0       0       0       0       0       0   \n",
       "\n",
       "    ...     feat_85  feat_86  feat_87  feat_88  feat_89  feat_90  feat_91  \\\n",
       "0   ...           1        0        0        0        0        0        0   \n",
       "1   ...           0        0        0        0        0        0        0   \n",
       "2   ...           0        0        0        0        0        0        0   \n",
       "3   ...           0        1        2        0        0        0        0   \n",
       "4   ...           1        0        0        0        0        1        0   \n",
       "\n",
       "   feat_92  feat_93   target  \n",
       "0        0        0  Class_1  \n",
       "1        0        0  Class_1  \n",
       "2        0        0  Class_1  \n",
       "3        0        0  Class_1  \n",
       "4        0        0  Class_1  \n",
       "\n",
       "[5 rows x 95 columns]"
      ]
     },
     "execution_count": 1,
     "metadata": {},
     "output_type": "execute_result"
    }
   ],
   "source": [
    "# Your code here\n",
    "import pandas as pd\n",
    "import numpy as np\n",
    "df = pd.read_csv('otto_group.csv')\n",
    "df.head()"
   ]
  },
  {
   "cell_type": "code",
   "execution_count": 2,
   "metadata": {},
   "outputs": [
    {
     "data": {
      "text/html": [
       "<div>\n",
       "<style scoped>\n",
       "    .dataframe tbody tr th:only-of-type {\n",
       "        vertical-align: middle;\n",
       "    }\n",
       "\n",
       "    .dataframe tbody tr th {\n",
       "        vertical-align: top;\n",
       "    }\n",
       "\n",
       "    .dataframe thead th {\n",
       "        text-align: right;\n",
       "    }\n",
       "</style>\n",
       "<table border=\"1\" class=\"dataframe\">\n",
       "  <thead>\n",
       "    <tr style=\"text-align: right;\">\n",
       "      <th></th>\n",
       "      <th>feat_1</th>\n",
       "      <th>feat_2</th>\n",
       "      <th>feat_3</th>\n",
       "      <th>feat_4</th>\n",
       "      <th>feat_5</th>\n",
       "      <th>feat_6</th>\n",
       "      <th>feat_7</th>\n",
       "      <th>feat_8</th>\n",
       "      <th>feat_9</th>\n",
       "      <th>feat_10</th>\n",
       "      <th>...</th>\n",
       "      <th>feat_84</th>\n",
       "      <th>feat_85</th>\n",
       "      <th>feat_86</th>\n",
       "      <th>feat_87</th>\n",
       "      <th>feat_88</th>\n",
       "      <th>feat_89</th>\n",
       "      <th>feat_90</th>\n",
       "      <th>feat_91</th>\n",
       "      <th>feat_92</th>\n",
       "      <th>feat_93</th>\n",
       "    </tr>\n",
       "  </thead>\n",
       "  <tbody>\n",
       "    <tr>\n",
       "      <th>0</th>\n",
       "      <td>1</td>\n",
       "      <td>0</td>\n",
       "      <td>0</td>\n",
       "      <td>0</td>\n",
       "      <td>0</td>\n",
       "      <td>0</td>\n",
       "      <td>0</td>\n",
       "      <td>0</td>\n",
       "      <td>0</td>\n",
       "      <td>0</td>\n",
       "      <td>...</td>\n",
       "      <td>0</td>\n",
       "      <td>1</td>\n",
       "      <td>0</td>\n",
       "      <td>0</td>\n",
       "      <td>0</td>\n",
       "      <td>0</td>\n",
       "      <td>0</td>\n",
       "      <td>0</td>\n",
       "      <td>0</td>\n",
       "      <td>0</td>\n",
       "    </tr>\n",
       "    <tr>\n",
       "      <th>1</th>\n",
       "      <td>0</td>\n",
       "      <td>0</td>\n",
       "      <td>0</td>\n",
       "      <td>0</td>\n",
       "      <td>0</td>\n",
       "      <td>0</td>\n",
       "      <td>0</td>\n",
       "      <td>1</td>\n",
       "      <td>0</td>\n",
       "      <td>0</td>\n",
       "      <td>...</td>\n",
       "      <td>0</td>\n",
       "      <td>0</td>\n",
       "      <td>0</td>\n",
       "      <td>0</td>\n",
       "      <td>0</td>\n",
       "      <td>0</td>\n",
       "      <td>0</td>\n",
       "      <td>0</td>\n",
       "      <td>0</td>\n",
       "      <td>0</td>\n",
       "    </tr>\n",
       "    <tr>\n",
       "      <th>2</th>\n",
       "      <td>0</td>\n",
       "      <td>0</td>\n",
       "      <td>0</td>\n",
       "      <td>0</td>\n",
       "      <td>0</td>\n",
       "      <td>0</td>\n",
       "      <td>0</td>\n",
       "      <td>1</td>\n",
       "      <td>0</td>\n",
       "      <td>0</td>\n",
       "      <td>...</td>\n",
       "      <td>0</td>\n",
       "      <td>0</td>\n",
       "      <td>0</td>\n",
       "      <td>0</td>\n",
       "      <td>0</td>\n",
       "      <td>0</td>\n",
       "      <td>0</td>\n",
       "      <td>0</td>\n",
       "      <td>0</td>\n",
       "      <td>0</td>\n",
       "    </tr>\n",
       "    <tr>\n",
       "      <th>3</th>\n",
       "      <td>1</td>\n",
       "      <td>0</td>\n",
       "      <td>0</td>\n",
       "      <td>1</td>\n",
       "      <td>6</td>\n",
       "      <td>1</td>\n",
       "      <td>5</td>\n",
       "      <td>0</td>\n",
       "      <td>0</td>\n",
       "      <td>1</td>\n",
       "      <td>...</td>\n",
       "      <td>22</td>\n",
       "      <td>0</td>\n",
       "      <td>1</td>\n",
       "      <td>2</td>\n",
       "      <td>0</td>\n",
       "      <td>0</td>\n",
       "      <td>0</td>\n",
       "      <td>0</td>\n",
       "      <td>0</td>\n",
       "      <td>0</td>\n",
       "    </tr>\n",
       "    <tr>\n",
       "      <th>4</th>\n",
       "      <td>0</td>\n",
       "      <td>0</td>\n",
       "      <td>0</td>\n",
       "      <td>0</td>\n",
       "      <td>0</td>\n",
       "      <td>0</td>\n",
       "      <td>0</td>\n",
       "      <td>0</td>\n",
       "      <td>0</td>\n",
       "      <td>0</td>\n",
       "      <td>...</td>\n",
       "      <td>0</td>\n",
       "      <td>1</td>\n",
       "      <td>0</td>\n",
       "      <td>0</td>\n",
       "      <td>0</td>\n",
       "      <td>0</td>\n",
       "      <td>1</td>\n",
       "      <td>0</td>\n",
       "      <td>0</td>\n",
       "      <td>0</td>\n",
       "    </tr>\n",
       "  </tbody>\n",
       "</table>\n",
       "<p>5 rows × 93 columns</p>\n",
       "</div>"
      ],
      "text/plain": [
       "   feat_1  feat_2  feat_3  feat_4  feat_5  feat_6  feat_7  feat_8  feat_9  \\\n",
       "0       1       0       0       0       0       0       0       0       0   \n",
       "1       0       0       0       0       0       0       0       1       0   \n",
       "2       0       0       0       0       0       0       0       1       0   \n",
       "3       1       0       0       1       6       1       5       0       0   \n",
       "4       0       0       0       0       0       0       0       0       0   \n",
       "\n",
       "   feat_10   ...     feat_84  feat_85  feat_86  feat_87  feat_88  feat_89  \\\n",
       "0        0   ...           0        1        0        0        0        0   \n",
       "1        0   ...           0        0        0        0        0        0   \n",
       "2        0   ...           0        0        0        0        0        0   \n",
       "3        1   ...          22        0        1        2        0        0   \n",
       "4        0   ...           0        1        0        0        0        0   \n",
       "\n",
       "   feat_90  feat_91  feat_92  feat_93  \n",
       "0        0        0        0        0  \n",
       "1        0        0        0        0  \n",
       "2        0        0        0        0  \n",
       "3        0        0        0        0  \n",
       "4        1        0        0        0  \n",
       "\n",
       "[5 rows x 93 columns]"
      ]
     },
     "execution_count": 2,
     "metadata": {},
     "output_type": "execute_result"
    }
   ],
   "source": [
    "features = df.drop(columns=['id', 'target'])\n",
    "features.head()"
   ]
  },
  {
   "cell_type": "code",
   "execution_count": 3,
   "metadata": {},
   "outputs": [
    {
     "data": {
      "text/plain": [
       "0    1\n",
       "1    2\n",
       "2    3\n",
       "3    4\n",
       "4    5\n",
       "Name: id, dtype: int64"
      ]
     },
     "execution_count": 3,
     "metadata": {},
     "output_type": "execute_result"
    }
   ],
   "source": [
    "target = df.id\n",
    "target.head()"
   ]
  },
  {
   "cell_type": "code",
   "execution_count": 4,
   "metadata": {},
   "outputs": [
    {
     "data": {
      "text/plain": [
       "id         0\n",
       "feat_1     0\n",
       "feat_2     0\n",
       "feat_3     0\n",
       "feat_4     0\n",
       "feat_5     0\n",
       "feat_6     0\n",
       "feat_7     0\n",
       "feat_8     0\n",
       "feat_9     0\n",
       "feat_10    0\n",
       "feat_11    0\n",
       "feat_12    0\n",
       "feat_13    0\n",
       "feat_14    0\n",
       "feat_15    0\n",
       "feat_16    0\n",
       "feat_17    0\n",
       "feat_18    0\n",
       "feat_19    0\n",
       "feat_20    0\n",
       "feat_21    0\n",
       "feat_22    0\n",
       "feat_23    0\n",
       "feat_24    0\n",
       "feat_25    0\n",
       "feat_26    0\n",
       "feat_27    0\n",
       "feat_28    0\n",
       "feat_29    0\n",
       "          ..\n",
       "feat_65    0\n",
       "feat_66    0\n",
       "feat_67    0\n",
       "feat_68    0\n",
       "feat_69    0\n",
       "feat_70    0\n",
       "feat_71    0\n",
       "feat_72    0\n",
       "feat_73    0\n",
       "feat_74    0\n",
       "feat_75    0\n",
       "feat_76    0\n",
       "feat_77    0\n",
       "feat_78    0\n",
       "feat_79    0\n",
       "feat_80    0\n",
       "feat_81    0\n",
       "feat_82    0\n",
       "feat_83    0\n",
       "feat_84    0\n",
       "feat_85    0\n",
       "feat_86    0\n",
       "feat_87    0\n",
       "feat_88    0\n",
       "feat_89    0\n",
       "feat_90    0\n",
       "feat_91    0\n",
       "feat_92    0\n",
       "feat_93    0\n",
       "target     0\n",
       "Length: 95, dtype: int64"
      ]
     },
     "execution_count": 4,
     "metadata": {},
     "output_type": "execute_result"
    }
   ],
   "source": [
    "df.isna().sum()"
   ]
  },
  {
   "cell_type": "code",
   "execution_count": 5,
   "metadata": {},
   "outputs": [
    {
     "data": {
      "text/plain": [
       "array([[<matplotlib.axes._subplots.AxesSubplot object at 0x11ed02080>,\n",
       "        <matplotlib.axes._subplots.AxesSubplot object at 0x11ed50390>,\n",
       "        <matplotlib.axes._subplots.AxesSubplot object at 0x11ed7a828>,\n",
       "        <matplotlib.axes._subplots.AxesSubplot object at 0x11eda5eb8>,\n",
       "        <matplotlib.axes._subplots.AxesSubplot object at 0x11edd3588>,\n",
       "        <matplotlib.axes._subplots.AxesSubplot object at 0x11edd35c0>,\n",
       "        <matplotlib.axes._subplots.AxesSubplot object at 0x11ee2a2e8>,\n",
       "        <matplotlib.axes._subplots.AxesSubplot object at 0x11ee4f978>,\n",
       "        <matplotlib.axes._subplots.AxesSubplot object at 0x11ee83048>,\n",
       "        <matplotlib.axes._subplots.AxesSubplot object at 0x11eeab6d8>],\n",
       "       [<matplotlib.axes._subplots.AxesSubplot object at 0x11eed2d68>,\n",
       "        <matplotlib.axes._subplots.AxesSubplot object at 0x11ef03438>,\n",
       "        <matplotlib.axes._subplots.AxesSubplot object at 0x11ef2aac8>,\n",
       "        <matplotlib.axes._subplots.AxesSubplot object at 0x11ef5d198>,\n",
       "        <matplotlib.axes._subplots.AxesSubplot object at 0x11ef82828>,\n",
       "        <matplotlib.axes._subplots.AxesSubplot object at 0x11efaceb8>,\n",
       "        <matplotlib.axes._subplots.AxesSubplot object at 0x11efdd588>,\n",
       "        <matplotlib.axes._subplots.AxesSubplot object at 0x11f004c18>,\n",
       "        <matplotlib.axes._subplots.AxesSubplot object at 0x11f0362e8>,\n",
       "        <matplotlib.axes._subplots.AxesSubplot object at 0x11f05d978>],\n",
       "       [<matplotlib.axes._subplots.AxesSubplot object at 0x11f08d048>,\n",
       "        <matplotlib.axes._subplots.AxesSubplot object at 0x11f0b46d8>,\n",
       "        <matplotlib.axes._subplots.AxesSubplot object at 0x11f0dbd68>,\n",
       "        <matplotlib.axes._subplots.AxesSubplot object at 0x11f10e438>,\n",
       "        <matplotlib.axes._subplots.AxesSubplot object at 0x11f134ac8>,\n",
       "        <matplotlib.axes._subplots.AxesSubplot object at 0x11f167198>,\n",
       "        <matplotlib.axes._subplots.AxesSubplot object at 0x11f18f828>,\n",
       "        <matplotlib.axes._subplots.AxesSubplot object at 0x11f1b7eb8>,\n",
       "        <matplotlib.axes._subplots.AxesSubplot object at 0x11f1e7588>,\n",
       "        <matplotlib.axes._subplots.AxesSubplot object at 0x11f20fc18>],\n",
       "       [<matplotlib.axes._subplots.AxesSubplot object at 0x11f2412e8>,\n",
       "        <matplotlib.axes._subplots.AxesSubplot object at 0x11f267978>,\n",
       "        <matplotlib.axes._subplots.AxesSubplot object at 0x11f299048>,\n",
       "        <matplotlib.axes._subplots.AxesSubplot object at 0x11f2c06d8>,\n",
       "        <matplotlib.axes._subplots.AxesSubplot object at 0x11f2e8d68>,\n",
       "        <matplotlib.axes._subplots.AxesSubplot object at 0x11f319438>,\n",
       "        <matplotlib.axes._subplots.AxesSubplot object at 0x11f341ac8>,\n",
       "        <matplotlib.axes._subplots.AxesSubplot object at 0x11f373198>,\n",
       "        <matplotlib.axes._subplots.AxesSubplot object at 0x11f399828>,\n",
       "        <matplotlib.axes._subplots.AxesSubplot object at 0x11f3c1eb8>],\n",
       "       [<matplotlib.axes._subplots.AxesSubplot object at 0x11f3f1588>,\n",
       "        <matplotlib.axes._subplots.AxesSubplot object at 0x11f419c18>,\n",
       "        <matplotlib.axes._subplots.AxesSubplot object at 0x11f44c2e8>,\n",
       "        <matplotlib.axes._subplots.AxesSubplot object at 0x11f472978>,\n",
       "        <matplotlib.axes._subplots.AxesSubplot object at 0x11f4a5048>,\n",
       "        <matplotlib.axes._subplots.AxesSubplot object at 0x11f4cb6d8>,\n",
       "        <matplotlib.axes._subplots.AxesSubplot object at 0x11f4f3d68>,\n",
       "        <matplotlib.axes._subplots.AxesSubplot object at 0x11f524438>,\n",
       "        <matplotlib.axes._subplots.AxesSubplot object at 0x11f549ac8>,\n",
       "        <matplotlib.axes._subplots.AxesSubplot object at 0x11f57e198>],\n",
       "       [<matplotlib.axes._subplots.AxesSubplot object at 0x11f5a5828>,\n",
       "        <matplotlib.axes._subplots.AxesSubplot object at 0x11f5cdeb8>,\n",
       "        <matplotlib.axes._subplots.AxesSubplot object at 0x11f5fe588>,\n",
       "        <matplotlib.axes._subplots.AxesSubplot object at 0x11f624c18>,\n",
       "        <matplotlib.axes._subplots.AxesSubplot object at 0x11f6552e8>,\n",
       "        <matplotlib.axes._subplots.AxesSubplot object at 0x11f67e978>,\n",
       "        <matplotlib.axes._subplots.AxesSubplot object at 0x11f6b0048>,\n",
       "        <matplotlib.axes._subplots.AxesSubplot object at 0x11f6d56d8>,\n",
       "        <matplotlib.axes._subplots.AxesSubplot object at 0x11f6ffd68>,\n",
       "        <matplotlib.axes._subplots.AxesSubplot object at 0x11f730438>],\n",
       "       [<matplotlib.axes._subplots.AxesSubplot object at 0x11f758ac8>,\n",
       "        <matplotlib.axes._subplots.AxesSubplot object at 0x11f788198>,\n",
       "        <matplotlib.axes._subplots.AxesSubplot object at 0x11f7b1828>,\n",
       "        <matplotlib.axes._subplots.AxesSubplot object at 0x11f7d7eb8>,\n",
       "        <matplotlib.axes._subplots.AxesSubplot object at 0x11f808588>,\n",
       "        <matplotlib.axes._subplots.AxesSubplot object at 0x11f82fc18>,\n",
       "        <matplotlib.axes._subplots.AxesSubplot object at 0x11f8642e8>,\n",
       "        <matplotlib.axes._subplots.AxesSubplot object at 0x11f889978>,\n",
       "        <matplotlib.axes._subplots.AxesSubplot object at 0x11f8ba048>,\n",
       "        <matplotlib.axes._subplots.AxesSubplot object at 0x11f8e46d8>],\n",
       "       [<matplotlib.axes._subplots.AxesSubplot object at 0x11f90ad68>,\n",
       "        <matplotlib.axes._subplots.AxesSubplot object at 0x11f93b438>,\n",
       "        <matplotlib.axes._subplots.AxesSubplot object at 0x11f963ac8>,\n",
       "        <matplotlib.axes._subplots.AxesSubplot object at 0x11f995198>,\n",
       "        <matplotlib.axes._subplots.AxesSubplot object at 0x11f9bb828>,\n",
       "        <matplotlib.axes._subplots.AxesSubplot object at 0x11f9e6eb8>,\n",
       "        <matplotlib.axes._subplots.AxesSubplot object at 0x11fa14588>,\n",
       "        <matplotlib.axes._subplots.AxesSubplot object at 0x11fa3cc18>,\n",
       "        <matplotlib.axes._subplots.AxesSubplot object at 0x11fa6d2e8>,\n",
       "        <matplotlib.axes._subplots.AxesSubplot object at 0x11fa93978>],\n",
       "       [<matplotlib.axes._subplots.AxesSubplot object at 0x11fac6048>,\n",
       "        <matplotlib.axes._subplots.AxesSubplot object at 0x11faee6d8>,\n",
       "        <matplotlib.axes._subplots.AxesSubplot object at 0x11fb17d68>,\n",
       "        <matplotlib.axes._subplots.AxesSubplot object at 0x11fb48438>,\n",
       "        <matplotlib.axes._subplots.AxesSubplot object at 0x11fb70ac8>,\n",
       "        <matplotlib.axes._subplots.AxesSubplot object at 0x11fba1198>,\n",
       "        <matplotlib.axes._subplots.AxesSubplot object at 0x11fbc6828>,\n",
       "        <matplotlib.axes._subplots.AxesSubplot object at 0x11fbefeb8>,\n",
       "        <matplotlib.axes._subplots.AxesSubplot object at 0x11fc21588>,\n",
       "        <matplotlib.axes._subplots.AxesSubplot object at 0x11fc49c18>],\n",
       "       [<matplotlib.axes._subplots.AxesSubplot object at 0x11fc7a2e8>,\n",
       "        <matplotlib.axes._subplots.AxesSubplot object at 0x11fca1978>,\n",
       "        <matplotlib.axes._subplots.AxesSubplot object at 0x11fcd3048>,\n",
       "        <matplotlib.axes._subplots.AxesSubplot object at 0x11fcf86d8>,\n",
       "        <matplotlib.axes._subplots.AxesSubplot object at 0x11fd1fd68>,\n",
       "        <matplotlib.axes._subplots.AxesSubplot object at 0x11fd53438>,\n",
       "        <matplotlib.axes._subplots.AxesSubplot object at 0x11fd79ac8>,\n",
       "        <matplotlib.axes._subplots.AxesSubplot object at 0x11fdaa198>,\n",
       "        <matplotlib.axes._subplots.AxesSubplot object at 0x11fdd4828>,\n",
       "        <matplotlib.axes._subplots.AxesSubplot object at 0x11fdfbeb8>]],\n",
       "      dtype=object)"
      ]
     },
     "execution_count": 5,
     "metadata": {},
     "output_type": "execute_result"
    }
   ],
   "source": [
    "# Your code here\n",
    "df.hist(figsize=(40,40))"
   ]
  },
  {
   "cell_type": "code",
   "execution_count": 6,
   "metadata": {},
   "outputs": [
    {
     "data": {
      "text/plain": [
       "<matplotlib.axes._subplots.AxesSubplot at 0x1259bd160>"
      ]
     },
     "execution_count": 6,
     "metadata": {},
     "output_type": "execute_result"
    },
    {
     "data": {
      "image/png": "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\n",
      "text/plain": [
       "<Figure size 864x864 with 1 Axes>"
      ]
     },
     "metadata": {},
     "output_type": "display_data"
    }
   ],
   "source": [
    "# Your code here\n",
    "df.drop(columns=['id']).boxplot(figsize=(12,12))"
   ]
  },
  {
   "cell_type": "code",
   "execution_count": 7,
   "metadata": {},
   "outputs": [
    {
     "data": {
      "text/plain": [
       "False"
      ]
     },
     "execution_count": 7,
     "metadata": {},
     "output_type": "execute_result"
    }
   ],
   "source": [
    "# Your code here\n",
    "df.isna().any().any()"
   ]
  },
  {
   "cell_type": "markdown",
   "metadata": {},
   "source": [
    "If you look at all the histograms, you can tell that a lot of the data are zero-inflated, so most of the variables contain mostly zeros and then some higher values here and there. No normality, but for most machine learning techniques this is not an issue. "
   ]
  },
  {
   "cell_type": "markdown",
   "metadata": {},
   "source": [
    "Because the data is zero-inflated the boxplots look as shown above. Because there are this many zeroes, most values above zero will seem to be outliers. The safe decision for this data is to not delete any outliers and see what happens. With many 0s, sparse data is available and high values may be super informative. More-over, without having any intuitive meaning for each of the features, we don't know if a value of ~260 is actually an outlier."
   ]
  },
  {
   "cell_type": "markdown",
   "metadata": {},
   "source": [
    "## Feature engineering and selection with PCA"
   ]
  },
  {
   "cell_type": "markdown",
   "metadata": {},
   "source": [
    "Have a look at the correlation structure of your features using a heatmap."
   ]
  },
  {
   "cell_type": "code",
   "execution_count": 8,
   "metadata": {},
   "outputs": [],
   "source": [
    "# Your code here\n",
    "import matplotlib.pyplot as plt\n",
    "import seaborn as sns"
   ]
  },
  {
   "cell_type": "code",
   "execution_count": 9,
   "metadata": {},
   "outputs": [
    {
     "data": {
      "text/plain": [
       "<matplotlib.axes._subplots.AxesSubplot at 0x1268c8a58>"
      ]
     },
     "execution_count": 9,
     "metadata": {},
     "output_type": "execute_result"
    },
    {
     "data": {
      "image/png": "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\n",
      "text/plain": [
       "<Figure size 720x720 with 2 Axes>"
      ]
     },
     "metadata": {},
     "output_type": "display_data"
    }
   ],
   "source": [
    "plt.figure(figsize=(10,10))\n",
    "ax= plt.subplot(111)\n",
    "sns.heatmap(features.corr(), center=0, ax=ax)\n",
    "\n"
   ]
  },
  {
   "cell_type": "markdown",
   "metadata": {},
   "source": [
    "Use PCA to downscale your features. Use PCA to select a number of features in a way that you still keep 80% of your explained variance."
   ]
  },
  {
   "cell_type": "code",
   "execution_count": 10,
   "metadata": {},
   "outputs": [],
   "source": [
    "# Your code here\n",
    "from sklearn.decomposition import PCA"
   ]
  },
  {
   "cell_type": "code",
   "execution_count": 11,
   "metadata": {},
   "outputs": [
    {
     "name": "stdout",
     "output_type": "stream",
     "text": [
      "0.727497063383219\n",
      "0.8886432066158363\n",
      "0.9598090987969653\n"
     ]
    }
   ],
   "source": [
    "pca_1 = PCA(n_components=20)\n",
    "pca_2 = PCA(n_components=40)\n",
    "pca_3 = PCA(n_components=60)\n",
    "\n",
    "principalComponents = pca_1.fit_transform(features)\n",
    "principalComponents = pca_2.fit_transform(features)\n",
    "principalComponents = pca_3.fit_transform(features)\n",
    "\n",
    "print(np.sum(pca_1.explained_variance_ratio_))\n",
    "print(np.sum(pca_2.explained_variance_ratio_))\n",
    "print(np.sum(pca_3.explained_variance_ratio_))"
   ]
  },
  {
   "cell_type": "code",
   "execution_count": 12,
   "metadata": {},
   "outputs": [
    {
     "name": "stdout",
     "output_type": "stream",
     "text": [
      "0.8003951408058443\n"
     ]
    }
   ],
   "source": [
    "pca = PCA(n_components=27)\n",
    "principalComponents = pca.fit_transform(features)\n",
    "print(np.sum(pca.explained_variance_ratio_))"
   ]
  },
  {
   "cell_type": "markdown",
   "metadata": {},
   "source": [
    "## Create a train test split with a test size of 40%"
   ]
  },
  {
   "cell_type": "markdown",
   "metadata": {},
   "source": [
    "This is a relatively big training set. Feel free to make it smaller (down to ~20%), but for an initial run you can try smaller training sets so the computation time is more manageable.\n",
    "\n",
    "For now, simply use the original data and not the principal components. We looked at the PC's first to get a sense of our correlation structure, and to see how we can downsize our data without losing too much information. In what's next, you'll make PCA part of the pipeline!!"
   ]
  },
  {
   "cell_type": "code",
   "execution_count": 13,
   "metadata": {},
   "outputs": [],
   "source": [
    "X = features\n",
    "y = df.target"
   ]
  },
  {
   "cell_type": "code",
   "execution_count": 14,
   "metadata": {},
   "outputs": [],
   "source": [
    "# Your code here\n",
    "from sklearn.model_selection import train_test_split "
   ]
  },
  {
   "cell_type": "code",
   "execution_count": 15,
   "metadata": {},
   "outputs": [],
   "source": [
    "# Your code here\n",
    "X_train, X_test, y_train, y_test = train_test_split(X, y, test_size=.3)"
   ]
  },
  {
   "cell_type": "markdown",
   "metadata": {},
   "source": [
    "## Create a baseline model"
   ]
  },
  {
   "cell_type": "markdown",
   "metadata": {},
   "source": [
    "Create your baseline model *in a pipeline setting*. In the pipeline\n",
    "- Your first step will be to scale your features down to the number of features that ensure you keep just 80% of your explained variance (which we saw before)\n",
    "- Your second step will be the building a basic logistic regression model.\n",
    "\n",
    "Make sure to fit the model using the training set, and test the result by obtaining the accuracy using the test set."
   ]
  },
  {
   "cell_type": "code",
   "execution_count": 16,
   "metadata": {},
   "outputs": [],
   "source": [
    "# Your code here\n",
    "from sklearn.linear_model import LogisticRegression\n",
    "from sklearn.pipeline import Pipeline"
   ]
  },
  {
   "cell_type": "code",
   "execution_count": 17,
   "metadata": {},
   "outputs": [],
   "source": [
    "# Your code here\n",
    "pipe_lr = Pipeline([('pca', PCA(n_components=27)), ('clf', LogisticRegression())])"
   ]
  },
  {
   "cell_type": "code",
   "execution_count": 18,
   "metadata": {},
   "outputs": [
    {
     "data": {
      "text/plain": [
       "0.7185951303598362"
      ]
     },
     "execution_count": 18,
     "metadata": {},
     "output_type": "execute_result"
    }
   ],
   "source": [
    "# Your code here\n",
    "pipe_lr.fit(X_train, y_train)\n",
    "pipe_lr.score(X_test, y_test)"
   ]
  },
  {
   "cell_type": "markdown",
   "metadata": {},
   "source": [
    "## Create a pipeline consisting of a linear SVM, a simple Decision Tree and a simple Random Forest Classifier"
   ]
  },
  {
   "cell_type": "markdown",
   "metadata": {},
   "source": [
    "Repeat the above, but now create three different pipelines:\n",
    "- One for a standard linear SCM\n",
    "- One for a default decision tree\n",
    "- One for a RandomForestClassifier"
   ]
  },
  {
   "cell_type": "code",
   "execution_count": 19,
   "metadata": {},
   "outputs": [],
   "source": [
    "# Your code here\n",
    "from sklearn.svm import SVC\n",
    "from sklearn.tree import DecisionTreeClassifier\n",
    "from sklearn.ensemble import RandomForestClassifier"
   ]
  },
  {
   "cell_type": "code",
   "execution_count": 20,
   "metadata": {},
   "outputs": [
    {
     "name": "stdout",
     "output_type": "stream",
     "text": [
      "Pipeline(memory=None,\n",
      "     steps=[('pca', PCA(copy=True, iterated_power='auto', n_components=27, random_state=None,\n",
      "  svd_solver='auto', tol=0.0, whiten=False)), ('clf', SVC(C=1.0, cache_size=200, class_weight=None, coef0=0.0,\n",
      "  decision_function_shape='ovr', degree=3, gamma='auto', kernel='linear',\n",
      "  max_iter=-1, probability=False, random_state=None, shrinking=True,\n",
      "  tol=0.001, verbose=False))])\n",
      "Pipeline(memory=None,\n",
      "     steps=[('pca', PCA(copy=True, iterated_power='auto', n_components=27, random_state=None,\n",
      "  svd_solver='auto', tol=0.0, whiten=False)), ('clf', DecisionTreeClassifier(class_weight=None, criterion='gini', max_depth=None,\n",
      "            max_features=None, max_leaf_nodes=None,\n",
      "            min_impurity_decrease=0.0, min_impurity_split=None,\n",
      "            min_samples_leaf=1, min_samples_split=2,\n",
      "            min_weight_fraction_leaf=0.0, presort=False, random_state=None,\n",
      "            splitter='best'))])\n",
      "Pipeline(memory=None,\n",
      "     steps=[('pca', PCA(copy=True, iterated_power='auto', n_components=27, random_state=None,\n",
      "  svd_solver='auto', tol=0.0, whiten=False)), ('clf', RandomForestClassifier(bootstrap=True, class_weight=None, criterion='gini',\n",
      "            max_depth=None, max_features='auto', max_leaf_nodes=None,\n",
      "           ...n_jobs=1,\n",
      "            oob_score=False, random_state=None, verbose=0,\n",
      "            warm_start=False))])\n",
      "Support Vector Machine pipeline test accuracy: 0.733\n",
      "Decision Tree pipeline test accuracy: 0.669\n",
      "Random Forest pipeline test accuracy: 0.746\n"
     ]
    }
   ],
   "source": [
    "pipe_svm = Pipeline([('pca', PCA(n_components=27)), ('clf', SVC(kernel='linear'))])\n",
    "pipe_dt = Pipeline([('pca', PCA(n_components=27)), ('clf', DecisionTreeClassifier())])\n",
    "pipe_rf = Pipeline([('pca', PCA(n_components=27)), ('clf', RandomForestClassifier())])\n",
    "\n",
    "pipelines = [pipe_svm, pipe_dt, pipe_rf]\n",
    "pipeline_names = ['Support Vector Machine','Decision Tree','Random Forest']\n",
    "\n",
    "\n",
    "for pipe in pipelines:\n",
    "    print(pipe)\n",
    "    pipe.fit(X_train, y_train)\n",
    "\n",
    "\n",
    "for index, val in enumerate(pipelines):\n",
    "    print('%s pipeline test accuracy: %.3f' % (pipeline_names[index], val.score(X_test, y_test)))"
   ]
  },
  {
   "cell_type": "markdown",
   "metadata": {},
   "source": [
    "## Pipeline with grid search"
   ]
  },
  {
   "cell_type": "markdown",
   "metadata": {},
   "source": [
    "Construct 3 pipelines with grid search\n",
    "- one for support vector machines - make sure your grid isn't too big. You'll see it takes quite a while to fit SVMs with non-linear kernel functions!\n",
    "- one for random forests - try to have around 40 different models\n",
    "- one for the adaboost algorithm. "
   ]
  },
  {
   "cell_type": "markdown",
   "metadata": {},
   "source": [
    "### SVM pipeline with grid search"
   ]
  },
  {
   "cell_type": "code",
   "execution_count": 21,
   "metadata": {},
   "outputs": [],
   "source": [
    "from sklearn.model_selection import GridSearchCV"
   ]
  },
  {
   "cell_type": "code",
   "execution_count": 22,
   "metadata": {},
   "outputs": [
    {
     "name": "stdout",
     "output_type": "stream",
     "text": [
      "Fitting 3 folds for each of 7 candidates, totalling 21 fits\n",
      "[CV] clf__C=0.1, clf__kernel=linear ..................................\n",
      "[CV] ................... clf__C=0.1, clf__kernel=linear, total=  39.4s\n",
      "[CV] clf__C=0.1, clf__kernel=linear ..................................\n"
     ]
    },
    {
     "name": "stderr",
     "output_type": "stream",
     "text": [
      "[Parallel(n_jobs=1)]: Done   1 out of   1 | elapsed:   58.5s remaining:    0.0s\n"
     ]
    },
    {
     "name": "stdout",
     "output_type": "stream",
     "text": [
      "[CV] ................... clf__C=0.1, clf__kernel=linear, total=  48.6s\n",
      "[CV] clf__C=0.1, clf__kernel=linear ..................................\n",
      "[CV] ................... clf__C=0.1, clf__kernel=linear, total=  37.6s\n",
      "[CV] clf__C=1, clf__kernel=linear ....................................\n",
      "[CV] ..................... clf__C=1, clf__kernel=linear, total= 2.3min\n",
      "[CV] clf__C=1, clf__kernel=linear ....................................\n"
     ]
    },
    {
     "ename": "KeyboardInterrupt",
     "evalue": "",
     "output_type": "error",
     "traceback": [
      "\u001b[0;31m---------------------------------------------------------------------------\u001b[0m",
      "\u001b[0;31mKeyboardInterrupt\u001b[0m                         Traceback (most recent call last)",
      "\u001b[0;32m<ipython-input-22-d1aabca5e496>\u001b[0m in \u001b[0;36m<module>\u001b[0;34m()\u001b[0m\n\u001b[1;32m      5\u001b[0m  ]\n\u001b[1;32m      6\u001b[0m \u001b[0mgrid_svm\u001b[0m \u001b[0;34m=\u001b[0m \u001b[0mGridSearchCV\u001b[0m\u001b[0;34m(\u001b[0m\u001b[0mpipe_svm\u001b[0m\u001b[0;34m,\u001b[0m \u001b[0mparam_grid_svm\u001b[0m\u001b[0;34m,\u001b[0m \u001b[0mscoring\u001b[0m\u001b[0;34m=\u001b[0m\u001b[0;34m'accuracy'\u001b[0m\u001b[0;34m,\u001b[0m \u001b[0mcv\u001b[0m\u001b[0;34m=\u001b[0m\u001b[0;36m3\u001b[0m\u001b[0;34m,\u001b[0m \u001b[0mverbose\u001b[0m\u001b[0;34m=\u001b[0m\u001b[0;36m2\u001b[0m\u001b[0;34m,\u001b[0m \u001b[0mreturn_train_score\u001b[0m\u001b[0;34m=\u001b[0m\u001b[0;32mTrue\u001b[0m\u001b[0;34m)\u001b[0m\u001b[0;34m\u001b[0m\u001b[0m\n\u001b[0;32m----> 7\u001b[0;31m \u001b[0mgrid_svm\u001b[0m\u001b[0;34m.\u001b[0m\u001b[0mfit\u001b[0m\u001b[0;34m(\u001b[0m\u001b[0mX_train\u001b[0m\u001b[0;34m,\u001b[0m \u001b[0my_train\u001b[0m\u001b[0;34m)\u001b[0m\u001b[0;34m\u001b[0m\u001b[0m\n\u001b[0m\u001b[1;32m      8\u001b[0m \u001b[0;34m\u001b[0m\u001b[0m\n\u001b[1;32m      9\u001b[0m \u001b[0mprint\u001b[0m\u001b[0;34m(\u001b[0m\u001b[0;34m'Best accuracy: %.3f'\u001b[0m \u001b[0;34m%\u001b[0m \u001b[0mgrid_svm\u001b[0m\u001b[0;34m.\u001b[0m\u001b[0mbest_score_\u001b[0m\u001b[0;34m)\u001b[0m\u001b[0;34m\u001b[0m\u001b[0m\n",
      "\u001b[0;32m~/anaconda3/lib/python3.6/site-packages/sklearn/model_selection/_search.py\u001b[0m in \u001b[0;36mfit\u001b[0;34m(self, X, y, groups, **fit_params)\u001b[0m\n\u001b[1;32m    637\u001b[0m                                   error_score=self.error_score)\n\u001b[1;32m    638\u001b[0m           for parameters, (train, test) in product(candidate_params,\n\u001b[0;32m--> 639\u001b[0;31m                                                    cv.split(X, y, groups)))\n\u001b[0m\u001b[1;32m    640\u001b[0m \u001b[0;34m\u001b[0m\u001b[0m\n\u001b[1;32m    641\u001b[0m         \u001b[0;31m# if one choose to see train score, \"out\" will contain train score info\u001b[0m\u001b[0;34m\u001b[0m\u001b[0;34m\u001b[0m\u001b[0m\n",
      "\u001b[0;32m~/anaconda3/lib/python3.6/site-packages/sklearn/externals/joblib/parallel.py\u001b[0m in \u001b[0;36m__call__\u001b[0;34m(self, iterable)\u001b[0m\n\u001b[1;32m    777\u001b[0m             \u001b[0;31m# was dispatched. In particular this covers the edge\u001b[0m\u001b[0;34m\u001b[0m\u001b[0;34m\u001b[0m\u001b[0m\n\u001b[1;32m    778\u001b[0m             \u001b[0;31m# case of Parallel used with an exhausted iterator.\u001b[0m\u001b[0;34m\u001b[0m\u001b[0;34m\u001b[0m\u001b[0m\n\u001b[0;32m--> 779\u001b[0;31m             \u001b[0;32mwhile\u001b[0m \u001b[0mself\u001b[0m\u001b[0;34m.\u001b[0m\u001b[0mdispatch_one_batch\u001b[0m\u001b[0;34m(\u001b[0m\u001b[0miterator\u001b[0m\u001b[0;34m)\u001b[0m\u001b[0;34m:\u001b[0m\u001b[0;34m\u001b[0m\u001b[0m\n\u001b[0m\u001b[1;32m    780\u001b[0m                 \u001b[0mself\u001b[0m\u001b[0;34m.\u001b[0m\u001b[0m_iterating\u001b[0m \u001b[0;34m=\u001b[0m \u001b[0;32mTrue\u001b[0m\u001b[0;34m\u001b[0m\u001b[0m\n\u001b[1;32m    781\u001b[0m             \u001b[0;32melse\u001b[0m\u001b[0;34m:\u001b[0m\u001b[0;34m\u001b[0m\u001b[0m\n",
      "\u001b[0;32m~/anaconda3/lib/python3.6/site-packages/sklearn/externals/joblib/parallel.py\u001b[0m in \u001b[0;36mdispatch_one_batch\u001b[0;34m(self, iterator)\u001b[0m\n\u001b[1;32m    623\u001b[0m                 \u001b[0;32mreturn\u001b[0m \u001b[0;32mFalse\u001b[0m\u001b[0;34m\u001b[0m\u001b[0m\n\u001b[1;32m    624\u001b[0m             \u001b[0;32melse\u001b[0m\u001b[0;34m:\u001b[0m\u001b[0;34m\u001b[0m\u001b[0m\n\u001b[0;32m--> 625\u001b[0;31m                 \u001b[0mself\u001b[0m\u001b[0;34m.\u001b[0m\u001b[0m_dispatch\u001b[0m\u001b[0;34m(\u001b[0m\u001b[0mtasks\u001b[0m\u001b[0;34m)\u001b[0m\u001b[0;34m\u001b[0m\u001b[0m\n\u001b[0m\u001b[1;32m    626\u001b[0m                 \u001b[0;32mreturn\u001b[0m \u001b[0;32mTrue\u001b[0m\u001b[0;34m\u001b[0m\u001b[0m\n\u001b[1;32m    627\u001b[0m \u001b[0;34m\u001b[0m\u001b[0m\n",
      "\u001b[0;32m~/anaconda3/lib/python3.6/site-packages/sklearn/externals/joblib/parallel.py\u001b[0m in \u001b[0;36m_dispatch\u001b[0;34m(self, batch)\u001b[0m\n\u001b[1;32m    586\u001b[0m         \u001b[0mdispatch_timestamp\u001b[0m \u001b[0;34m=\u001b[0m \u001b[0mtime\u001b[0m\u001b[0;34m.\u001b[0m\u001b[0mtime\u001b[0m\u001b[0;34m(\u001b[0m\u001b[0;34m)\u001b[0m\u001b[0;34m\u001b[0m\u001b[0m\n\u001b[1;32m    587\u001b[0m         \u001b[0mcb\u001b[0m \u001b[0;34m=\u001b[0m \u001b[0mBatchCompletionCallBack\u001b[0m\u001b[0;34m(\u001b[0m\u001b[0mdispatch_timestamp\u001b[0m\u001b[0;34m,\u001b[0m \u001b[0mlen\u001b[0m\u001b[0;34m(\u001b[0m\u001b[0mbatch\u001b[0m\u001b[0;34m)\u001b[0m\u001b[0;34m,\u001b[0m \u001b[0mself\u001b[0m\u001b[0;34m)\u001b[0m\u001b[0;34m\u001b[0m\u001b[0m\n\u001b[0;32m--> 588\u001b[0;31m         \u001b[0mjob\u001b[0m \u001b[0;34m=\u001b[0m \u001b[0mself\u001b[0m\u001b[0;34m.\u001b[0m\u001b[0m_backend\u001b[0m\u001b[0;34m.\u001b[0m\u001b[0mapply_async\u001b[0m\u001b[0;34m(\u001b[0m\u001b[0mbatch\u001b[0m\u001b[0;34m,\u001b[0m \u001b[0mcallback\u001b[0m\u001b[0;34m=\u001b[0m\u001b[0mcb\u001b[0m\u001b[0;34m)\u001b[0m\u001b[0;34m\u001b[0m\u001b[0m\n\u001b[0m\u001b[1;32m    589\u001b[0m         \u001b[0mself\u001b[0m\u001b[0;34m.\u001b[0m\u001b[0m_jobs\u001b[0m\u001b[0;34m.\u001b[0m\u001b[0mappend\u001b[0m\u001b[0;34m(\u001b[0m\u001b[0mjob\u001b[0m\u001b[0;34m)\u001b[0m\u001b[0;34m\u001b[0m\u001b[0m\n\u001b[1;32m    590\u001b[0m \u001b[0;34m\u001b[0m\u001b[0m\n",
      "\u001b[0;32m~/anaconda3/lib/python3.6/site-packages/sklearn/externals/joblib/_parallel_backends.py\u001b[0m in \u001b[0;36mapply_async\u001b[0;34m(self, func, callback)\u001b[0m\n\u001b[1;32m    109\u001b[0m     \u001b[0;32mdef\u001b[0m \u001b[0mapply_async\u001b[0m\u001b[0;34m(\u001b[0m\u001b[0mself\u001b[0m\u001b[0;34m,\u001b[0m \u001b[0mfunc\u001b[0m\u001b[0;34m,\u001b[0m \u001b[0mcallback\u001b[0m\u001b[0;34m=\u001b[0m\u001b[0;32mNone\u001b[0m\u001b[0;34m)\u001b[0m\u001b[0;34m:\u001b[0m\u001b[0;34m\u001b[0m\u001b[0m\n\u001b[1;32m    110\u001b[0m         \u001b[0;34m\"\"\"Schedule a func to be run\"\"\"\u001b[0m\u001b[0;34m\u001b[0m\u001b[0m\n\u001b[0;32m--> 111\u001b[0;31m         \u001b[0mresult\u001b[0m \u001b[0;34m=\u001b[0m \u001b[0mImmediateResult\u001b[0m\u001b[0;34m(\u001b[0m\u001b[0mfunc\u001b[0m\u001b[0;34m)\u001b[0m\u001b[0;34m\u001b[0m\u001b[0m\n\u001b[0m\u001b[1;32m    112\u001b[0m         \u001b[0;32mif\u001b[0m \u001b[0mcallback\u001b[0m\u001b[0;34m:\u001b[0m\u001b[0;34m\u001b[0m\u001b[0m\n\u001b[1;32m    113\u001b[0m             \u001b[0mcallback\u001b[0m\u001b[0;34m(\u001b[0m\u001b[0mresult\u001b[0m\u001b[0;34m)\u001b[0m\u001b[0;34m\u001b[0m\u001b[0m\n",
      "\u001b[0;32m~/anaconda3/lib/python3.6/site-packages/sklearn/externals/joblib/_parallel_backends.py\u001b[0m in \u001b[0;36m__init__\u001b[0;34m(self, batch)\u001b[0m\n\u001b[1;32m    330\u001b[0m         \u001b[0;31m# Don't delay the application, to avoid keeping the input\u001b[0m\u001b[0;34m\u001b[0m\u001b[0;34m\u001b[0m\u001b[0m\n\u001b[1;32m    331\u001b[0m         \u001b[0;31m# arguments in memory\u001b[0m\u001b[0;34m\u001b[0m\u001b[0;34m\u001b[0m\u001b[0m\n\u001b[0;32m--> 332\u001b[0;31m         \u001b[0mself\u001b[0m\u001b[0;34m.\u001b[0m\u001b[0mresults\u001b[0m \u001b[0;34m=\u001b[0m \u001b[0mbatch\u001b[0m\u001b[0;34m(\u001b[0m\u001b[0;34m)\u001b[0m\u001b[0;34m\u001b[0m\u001b[0m\n\u001b[0m\u001b[1;32m    333\u001b[0m \u001b[0;34m\u001b[0m\u001b[0m\n\u001b[1;32m    334\u001b[0m     \u001b[0;32mdef\u001b[0m \u001b[0mget\u001b[0m\u001b[0;34m(\u001b[0m\u001b[0mself\u001b[0m\u001b[0;34m)\u001b[0m\u001b[0;34m:\u001b[0m\u001b[0;34m\u001b[0m\u001b[0m\n",
      "\u001b[0;32m~/anaconda3/lib/python3.6/site-packages/sklearn/externals/joblib/parallel.py\u001b[0m in \u001b[0;36m__call__\u001b[0;34m(self)\u001b[0m\n\u001b[1;32m    129\u001b[0m \u001b[0;34m\u001b[0m\u001b[0m\n\u001b[1;32m    130\u001b[0m     \u001b[0;32mdef\u001b[0m \u001b[0m__call__\u001b[0m\u001b[0;34m(\u001b[0m\u001b[0mself\u001b[0m\u001b[0;34m)\u001b[0m\u001b[0;34m:\u001b[0m\u001b[0;34m\u001b[0m\u001b[0m\n\u001b[0;32m--> 131\u001b[0;31m         \u001b[0;32mreturn\u001b[0m \u001b[0;34m[\u001b[0m\u001b[0mfunc\u001b[0m\u001b[0;34m(\u001b[0m\u001b[0;34m*\u001b[0m\u001b[0margs\u001b[0m\u001b[0;34m,\u001b[0m \u001b[0;34m**\u001b[0m\u001b[0mkwargs\u001b[0m\u001b[0;34m)\u001b[0m \u001b[0;32mfor\u001b[0m \u001b[0mfunc\u001b[0m\u001b[0;34m,\u001b[0m \u001b[0margs\u001b[0m\u001b[0;34m,\u001b[0m \u001b[0mkwargs\u001b[0m \u001b[0;32min\u001b[0m \u001b[0mself\u001b[0m\u001b[0;34m.\u001b[0m\u001b[0mitems\u001b[0m\u001b[0;34m]\u001b[0m\u001b[0;34m\u001b[0m\u001b[0m\n\u001b[0m\u001b[1;32m    132\u001b[0m \u001b[0;34m\u001b[0m\u001b[0m\n\u001b[1;32m    133\u001b[0m     \u001b[0;32mdef\u001b[0m \u001b[0m__len__\u001b[0m\u001b[0;34m(\u001b[0m\u001b[0mself\u001b[0m\u001b[0;34m)\u001b[0m\u001b[0;34m:\u001b[0m\u001b[0;34m\u001b[0m\u001b[0m\n",
      "\u001b[0;32m~/anaconda3/lib/python3.6/site-packages/sklearn/externals/joblib/parallel.py\u001b[0m in \u001b[0;36m<listcomp>\u001b[0;34m(.0)\u001b[0m\n\u001b[1;32m    129\u001b[0m \u001b[0;34m\u001b[0m\u001b[0m\n\u001b[1;32m    130\u001b[0m     \u001b[0;32mdef\u001b[0m \u001b[0m__call__\u001b[0m\u001b[0;34m(\u001b[0m\u001b[0mself\u001b[0m\u001b[0;34m)\u001b[0m\u001b[0;34m:\u001b[0m\u001b[0;34m\u001b[0m\u001b[0m\n\u001b[0;32m--> 131\u001b[0;31m         \u001b[0;32mreturn\u001b[0m \u001b[0;34m[\u001b[0m\u001b[0mfunc\u001b[0m\u001b[0;34m(\u001b[0m\u001b[0;34m*\u001b[0m\u001b[0margs\u001b[0m\u001b[0;34m,\u001b[0m \u001b[0;34m**\u001b[0m\u001b[0mkwargs\u001b[0m\u001b[0;34m)\u001b[0m \u001b[0;32mfor\u001b[0m \u001b[0mfunc\u001b[0m\u001b[0;34m,\u001b[0m \u001b[0margs\u001b[0m\u001b[0;34m,\u001b[0m \u001b[0mkwargs\u001b[0m \u001b[0;32min\u001b[0m \u001b[0mself\u001b[0m\u001b[0;34m.\u001b[0m\u001b[0mitems\u001b[0m\u001b[0;34m]\u001b[0m\u001b[0;34m\u001b[0m\u001b[0m\n\u001b[0m\u001b[1;32m    132\u001b[0m \u001b[0;34m\u001b[0m\u001b[0m\n\u001b[1;32m    133\u001b[0m     \u001b[0;32mdef\u001b[0m \u001b[0m__len__\u001b[0m\u001b[0;34m(\u001b[0m\u001b[0mself\u001b[0m\u001b[0;34m)\u001b[0m\u001b[0;34m:\u001b[0m\u001b[0;34m\u001b[0m\u001b[0m\n",
      "\u001b[0;32m~/anaconda3/lib/python3.6/site-packages/sklearn/model_selection/_validation.py\u001b[0m in \u001b[0;36m_fit_and_score\u001b[0;34m(estimator, X, y, scorer, train, test, verbose, parameters, fit_params, return_train_score, return_parameters, return_n_test_samples, return_times, error_score)\u001b[0m\n\u001b[1;32m    456\u001b[0m             \u001b[0mestimator\u001b[0m\u001b[0;34m.\u001b[0m\u001b[0mfit\u001b[0m\u001b[0;34m(\u001b[0m\u001b[0mX_train\u001b[0m\u001b[0;34m,\u001b[0m \u001b[0;34m**\u001b[0m\u001b[0mfit_params\u001b[0m\u001b[0;34m)\u001b[0m\u001b[0;34m\u001b[0m\u001b[0m\n\u001b[1;32m    457\u001b[0m         \u001b[0;32melse\u001b[0m\u001b[0;34m:\u001b[0m\u001b[0;34m\u001b[0m\u001b[0m\n\u001b[0;32m--> 458\u001b[0;31m             \u001b[0mestimator\u001b[0m\u001b[0;34m.\u001b[0m\u001b[0mfit\u001b[0m\u001b[0;34m(\u001b[0m\u001b[0mX_train\u001b[0m\u001b[0;34m,\u001b[0m \u001b[0my_train\u001b[0m\u001b[0;34m,\u001b[0m \u001b[0;34m**\u001b[0m\u001b[0mfit_params\u001b[0m\u001b[0;34m)\u001b[0m\u001b[0;34m\u001b[0m\u001b[0m\n\u001b[0m\u001b[1;32m    459\u001b[0m \u001b[0;34m\u001b[0m\u001b[0m\n\u001b[1;32m    460\u001b[0m     \u001b[0;32mexcept\u001b[0m \u001b[0mException\u001b[0m \u001b[0;32mas\u001b[0m \u001b[0me\u001b[0m\u001b[0;34m:\u001b[0m\u001b[0;34m\u001b[0m\u001b[0m\n",
      "\u001b[0;32m~/anaconda3/lib/python3.6/site-packages/sklearn/pipeline.py\u001b[0m in \u001b[0;36mfit\u001b[0;34m(self, X, y, **fit_params)\u001b[0m\n\u001b[1;32m    248\u001b[0m         \u001b[0mXt\u001b[0m\u001b[0;34m,\u001b[0m \u001b[0mfit_params\u001b[0m \u001b[0;34m=\u001b[0m \u001b[0mself\u001b[0m\u001b[0;34m.\u001b[0m\u001b[0m_fit\u001b[0m\u001b[0;34m(\u001b[0m\u001b[0mX\u001b[0m\u001b[0;34m,\u001b[0m \u001b[0my\u001b[0m\u001b[0;34m,\u001b[0m \u001b[0;34m**\u001b[0m\u001b[0mfit_params\u001b[0m\u001b[0;34m)\u001b[0m\u001b[0;34m\u001b[0m\u001b[0m\n\u001b[1;32m    249\u001b[0m         \u001b[0;32mif\u001b[0m \u001b[0mself\u001b[0m\u001b[0;34m.\u001b[0m\u001b[0m_final_estimator\u001b[0m \u001b[0;32mis\u001b[0m \u001b[0;32mnot\u001b[0m \u001b[0;32mNone\u001b[0m\u001b[0;34m:\u001b[0m\u001b[0;34m\u001b[0m\u001b[0m\n\u001b[0;32m--> 250\u001b[0;31m             \u001b[0mself\u001b[0m\u001b[0;34m.\u001b[0m\u001b[0m_final_estimator\u001b[0m\u001b[0;34m.\u001b[0m\u001b[0mfit\u001b[0m\u001b[0;34m(\u001b[0m\u001b[0mXt\u001b[0m\u001b[0;34m,\u001b[0m \u001b[0my\u001b[0m\u001b[0;34m,\u001b[0m \u001b[0;34m**\u001b[0m\u001b[0mfit_params\u001b[0m\u001b[0;34m)\u001b[0m\u001b[0;34m\u001b[0m\u001b[0m\n\u001b[0m\u001b[1;32m    251\u001b[0m         \u001b[0;32mreturn\u001b[0m \u001b[0mself\u001b[0m\u001b[0;34m\u001b[0m\u001b[0m\n\u001b[1;32m    252\u001b[0m \u001b[0;34m\u001b[0m\u001b[0m\n",
      "\u001b[0;32m~/anaconda3/lib/python3.6/site-packages/sklearn/svm/base.py\u001b[0m in \u001b[0;36mfit\u001b[0;34m(self, X, y, sample_weight)\u001b[0m\n\u001b[1;32m    185\u001b[0m \u001b[0;34m\u001b[0m\u001b[0m\n\u001b[1;32m    186\u001b[0m         \u001b[0mseed\u001b[0m \u001b[0;34m=\u001b[0m \u001b[0mrnd\u001b[0m\u001b[0;34m.\u001b[0m\u001b[0mrandint\u001b[0m\u001b[0;34m(\u001b[0m\u001b[0mnp\u001b[0m\u001b[0;34m.\u001b[0m\u001b[0miinfo\u001b[0m\u001b[0;34m(\u001b[0m\u001b[0;34m'i'\u001b[0m\u001b[0;34m)\u001b[0m\u001b[0;34m.\u001b[0m\u001b[0mmax\u001b[0m\u001b[0;34m)\u001b[0m\u001b[0;34m\u001b[0m\u001b[0m\n\u001b[0;32m--> 187\u001b[0;31m         \u001b[0mfit\u001b[0m\u001b[0;34m(\u001b[0m\u001b[0mX\u001b[0m\u001b[0;34m,\u001b[0m \u001b[0my\u001b[0m\u001b[0;34m,\u001b[0m \u001b[0msample_weight\u001b[0m\u001b[0;34m,\u001b[0m \u001b[0msolver_type\u001b[0m\u001b[0;34m,\u001b[0m \u001b[0mkernel\u001b[0m\u001b[0;34m,\u001b[0m \u001b[0mrandom_seed\u001b[0m\u001b[0;34m=\u001b[0m\u001b[0mseed\u001b[0m\u001b[0;34m)\u001b[0m\u001b[0;34m\u001b[0m\u001b[0m\n\u001b[0m\u001b[1;32m    188\u001b[0m         \u001b[0;31m# see comment on the other call to np.iinfo in this file\u001b[0m\u001b[0;34m\u001b[0m\u001b[0;34m\u001b[0m\u001b[0m\n\u001b[1;32m    189\u001b[0m \u001b[0;34m\u001b[0m\u001b[0m\n",
      "\u001b[0;32m~/anaconda3/lib/python3.6/site-packages/sklearn/svm/base.py\u001b[0m in \u001b[0;36m_dense_fit\u001b[0;34m(self, X, y, sample_weight, solver_type, kernel, random_seed)\u001b[0m\n\u001b[1;32m    252\u001b[0m                 \u001b[0mcache_size\u001b[0m\u001b[0;34m=\u001b[0m\u001b[0mself\u001b[0m\u001b[0;34m.\u001b[0m\u001b[0mcache_size\u001b[0m\u001b[0;34m,\u001b[0m \u001b[0mcoef0\u001b[0m\u001b[0;34m=\u001b[0m\u001b[0mself\u001b[0m\u001b[0;34m.\u001b[0m\u001b[0mcoef0\u001b[0m\u001b[0;34m,\u001b[0m\u001b[0;34m\u001b[0m\u001b[0m\n\u001b[1;32m    253\u001b[0m                 \u001b[0mgamma\u001b[0m\u001b[0;34m=\u001b[0m\u001b[0mself\u001b[0m\u001b[0;34m.\u001b[0m\u001b[0m_gamma\u001b[0m\u001b[0;34m,\u001b[0m \u001b[0mepsilon\u001b[0m\u001b[0;34m=\u001b[0m\u001b[0mself\u001b[0m\u001b[0;34m.\u001b[0m\u001b[0mepsilon\u001b[0m\u001b[0;34m,\u001b[0m\u001b[0;34m\u001b[0m\u001b[0m\n\u001b[0;32m--> 254\u001b[0;31m                 max_iter=self.max_iter, random_seed=random_seed)\n\u001b[0m\u001b[1;32m    255\u001b[0m \u001b[0;34m\u001b[0m\u001b[0m\n\u001b[1;32m    256\u001b[0m         \u001b[0mself\u001b[0m\u001b[0;34m.\u001b[0m\u001b[0m_warn_from_fit_status\u001b[0m\u001b[0;34m(\u001b[0m\u001b[0;34m)\u001b[0m\u001b[0;34m\u001b[0m\u001b[0m\n",
      "\u001b[0;31mKeyboardInterrupt\u001b[0m: "
     ]
    }
   ],
   "source": [
    "pipe_svm = Pipeline([('pca', PCA(n_components=27)), ('clf', SVC())])\n",
    "param_grid_svm = [\n",
    "  {'clf__C': [0.1, 1, 10]  , 'clf__kernel': ['linear']},\n",
    "  {'clf__C': [1, 10], 'clf__gamma': [0.001, 0.01], 'clf__kernel': ['rbf']},\n",
    " ]\n",
    "grid_svm = GridSearchCV(pipe_svm, param_grid_svm, scoring='accuracy', cv=3, verbose=2, return_train_score=True)\n",
    "grid_svm.fit(X_train, y_train)\n",
    "\n",
    "print('Best accuracy: %.3f' % grid_svm.best_score_)\n",
    "\n",
    "\n",
    "print('\\nBest params:\\n', grid_svm.best_params_)"
   ]
  },
  {
   "cell_type": "markdown",
   "metadata": {},
   "source": [
    "Use your grid search object along with `.cv_results` to get the full result overview"
   ]
  },
  {
   "cell_type": "code",
   "execution_count": null,
   "metadata": {},
   "outputs": [],
   "source": [
    "# Your code here"
   ]
  },
  {
   "cell_type": "markdown",
   "metadata": {},
   "source": [
    "### Random Forest pipeline with grid search"
   ]
  },
  {
   "cell_type": "code",
   "execution_count": null,
   "metadata": {},
   "outputs": [],
   "source": [
    "# Your code here"
   ]
  },
  {
   "cell_type": "code",
   "execution_count": null,
   "metadata": {},
   "outputs": [],
   "source": [
    "# Your code here"
   ]
  },
  {
   "cell_type": "markdown",
   "metadata": {},
   "source": [
    "## Adaboost"
   ]
  },
  {
   "cell_type": "code",
   "execution_count": 23,
   "metadata": {},
   "outputs": [],
   "source": [
    "from sklearn.ensemble import AdaBoostClassifier"
   ]
  },
  {
   "cell_type": "code",
   "execution_count": 24,
   "metadata": {
    "scrolled": false
   },
   "outputs": [
    {
     "name": "stdout",
     "output_type": "stream",
     "text": [
      "Fitting 3 folds for each of 9 candidates, totalling 27 fits\n",
      "[CV] clf__learning_rate=1.0, clf__n_estimators=30 ....................\n",
      "[CV] ..... clf__learning_rate=1.0, clf__n_estimators=30, total=   5.4s\n",
      "[CV] clf__learning_rate=1.0, clf__n_estimators=30 ....................\n"
     ]
    },
    {
     "name": "stderr",
     "output_type": "stream",
     "text": [
      "[Parallel(n_jobs=1)]: Done   1 out of   1 | elapsed:    5.6s remaining:    0.0s\n"
     ]
    },
    {
     "name": "stdout",
     "output_type": "stream",
     "text": [
      "[CV] ..... clf__learning_rate=1.0, clf__n_estimators=30, total=   6.8s\n",
      "[CV] clf__learning_rate=1.0, clf__n_estimators=30 ....................\n",
      "[CV] ..... clf__learning_rate=1.0, clf__n_estimators=30, total=   6.9s\n",
      "[CV] clf__learning_rate=1.0, clf__n_estimators=50 ....................\n",
      "[CV] ..... clf__learning_rate=1.0, clf__n_estimators=50, total=  10.1s\n",
      "[CV] clf__learning_rate=1.0, clf__n_estimators=50 ....................\n",
      "[CV] ..... clf__learning_rate=1.0, clf__n_estimators=50, total=   8.8s\n",
      "[CV] clf__learning_rate=1.0, clf__n_estimators=50 ....................\n",
      "[CV] ..... clf__learning_rate=1.0, clf__n_estimators=50, total=   8.7s\n",
      "[CV] clf__learning_rate=1.0, clf__n_estimators=70 ....................\n",
      "[CV] ..... clf__learning_rate=1.0, clf__n_estimators=70, total=  12.6s\n",
      "[CV] clf__learning_rate=1.0, clf__n_estimators=70 ....................\n",
      "[CV] ..... clf__learning_rate=1.0, clf__n_estimators=70, total=  13.4s\n",
      "[CV] clf__learning_rate=1.0, clf__n_estimators=70 ....................\n",
      "[CV] ..... clf__learning_rate=1.0, clf__n_estimators=70, total=  17.1s\n",
      "[CV] clf__learning_rate=0.5, clf__n_estimators=30 ....................\n",
      "[CV] ..... clf__learning_rate=0.5, clf__n_estimators=30, total=   6.3s\n",
      "[CV] clf__learning_rate=0.5, clf__n_estimators=30 ....................\n",
      "[CV] ..... clf__learning_rate=0.5, clf__n_estimators=30, total=   7.0s\n",
      "[CV] clf__learning_rate=0.5, clf__n_estimators=30 ....................\n",
      "[CV] ..... clf__learning_rate=0.5, clf__n_estimators=30, total=   5.9s\n",
      "[CV] clf__learning_rate=0.5, clf__n_estimators=50 ....................\n",
      "[CV] ..... clf__learning_rate=0.5, clf__n_estimators=50, total=  10.4s\n",
      "[CV] clf__learning_rate=0.5, clf__n_estimators=50 ....................\n",
      "[CV] ..... clf__learning_rate=0.5, clf__n_estimators=50, total=   9.8s\n",
      "[CV] clf__learning_rate=0.5, clf__n_estimators=50 ....................\n",
      "[CV] ..... clf__learning_rate=0.5, clf__n_estimators=50, total=   9.6s\n",
      "[CV] clf__learning_rate=0.5, clf__n_estimators=70 ....................\n",
      "[CV] ..... clf__learning_rate=0.5, clf__n_estimators=70, total=  14.2s\n",
      "[CV] clf__learning_rate=0.5, clf__n_estimators=70 ....................\n",
      "[CV] ..... clf__learning_rate=0.5, clf__n_estimators=70, total=  13.8s\n",
      "[CV] clf__learning_rate=0.5, clf__n_estimators=70 ....................\n",
      "[CV] ..... clf__learning_rate=0.5, clf__n_estimators=70, total=  12.6s\n",
      "[CV] clf__learning_rate=0.1, clf__n_estimators=30 ....................\n",
      "[CV] ..... clf__learning_rate=0.1, clf__n_estimators=30, total=   6.3s\n",
      "[CV] clf__learning_rate=0.1, clf__n_estimators=30 ....................\n",
      "[CV] ..... clf__learning_rate=0.1, clf__n_estimators=30, total=   6.2s\n",
      "[CV] clf__learning_rate=0.1, clf__n_estimators=30 ....................\n",
      "[CV] ..... clf__learning_rate=0.1, clf__n_estimators=30, total=   6.3s\n",
      "[CV] clf__learning_rate=0.1, clf__n_estimators=50 ....................\n",
      "[CV] ..... clf__learning_rate=0.1, clf__n_estimators=50, total=   9.6s\n",
      "[CV] clf__learning_rate=0.1, clf__n_estimators=50 ....................\n",
      "[CV] ..... clf__learning_rate=0.1, clf__n_estimators=50, total=  10.6s\n",
      "[CV] clf__learning_rate=0.1, clf__n_estimators=50 ....................\n",
      "[CV] ..... clf__learning_rate=0.1, clf__n_estimators=50, total=   9.8s\n",
      "[CV] clf__learning_rate=0.1, clf__n_estimators=70 ....................\n",
      "[CV] ..... clf__learning_rate=0.1, clf__n_estimators=70, total=  13.5s\n",
      "[CV] clf__learning_rate=0.1, clf__n_estimators=70 ....................\n",
      "[CV] ..... clf__learning_rate=0.1, clf__n_estimators=70, total=  14.0s\n",
      "[CV] clf__learning_rate=0.1, clf__n_estimators=70 ....................\n",
      "[CV] ..... clf__learning_rate=0.1, clf__n_estimators=70, total=  14.8s\n"
     ]
    },
    {
     "name": "stderr",
     "output_type": "stream",
     "text": [
      "[Parallel(n_jobs=1)]: Done  27 out of  27 | elapsed:  4.7min finished\n"
     ]
    },
    {
     "name": "stdout",
     "output_type": "stream",
     "text": [
      "Best accuracy: 0.674\n",
      "\n",
      "Best params:\n",
      " {'clf__learning_rate': 0.5, 'clf__n_estimators': 70}\n"
     ]
    }
   ],
   "source": [
    "# Your code here\n",
    "pipe_ada = Pipeline([('pca', PCA(n_components=27)), ('clf', AdaBoostClassifier())])\n",
    "adaboost_param_grid = {\n",
    "    'clf__n_estimators': [30, 50, 70],\n",
    "    'clf__learning_rate': [1.0, 0.5, 0.1]\n",
    "}\n",
    "gs_ab = GridSearchCV(pipe_ada, adaboost_param_grid, scoring='accuracy', cv=3, verbose=2, return_train_score=True)\n",
    "gs_ab.fit(X_train, y_train)\n",
    "\n",
    "# Best accuracy\n",
    "print('Best accuracy: %.3f' % gs_ab.best_score_)\n",
    "\n",
    "# Best params\n",
    "print('\\nBest params:\\n', gs_ab.best_params_)"
   ]
  },
  {
   "cell_type": "code",
   "execution_count": 30,
   "metadata": {},
   "outputs": [
    {
     "data": {
      "text/plain": [
       "{'mean_fit_time': array([ 6.22824828,  9.04731806, 14.06462638,  6.25506409,  9.75973789,\n",
       "        13.31855718,  6.0716176 ,  9.78963868, 13.90152605]),\n",
       " 'std_fit_time': array([0.69194197, 0.64092893, 2.00580399, 0.4671278 , 0.34562658,\n",
       "        0.678741  , 0.06890825, 0.45450724, 0.53204054]),\n",
       " 'mean_score_time': array([0.12471374, 0.16321063, 0.30070726, 0.12455893, 0.16062951,\n",
       "        0.2345403 , 0.15579033, 0.20393697, 0.23902305]),\n",
       " 'std_score_time': array([0.00959614, 0.00657175, 0.03298449, 0.01349189, 0.00102499,\n",
       "        0.01891355, 0.03323975, 0.04418984, 0.00229667]),\n",
       " 'param_clf__learning_rate': masked_array(data=[1.0, 1.0, 1.0, 0.5, 0.5, 0.5, 0.1, 0.1, 0.1],\n",
       "              mask=[False, False, False, False, False, False, False, False,\n",
       "                    False],\n",
       "        fill_value='?',\n",
       "             dtype=object),\n",
       " 'param_clf__n_estimators': masked_array(data=[30, 50, 70, 30, 50, 70, 30, 50, 70],\n",
       "              mask=[False, False, False, False, False, False, False, False,\n",
       "                    False],\n",
       "        fill_value='?',\n",
       "             dtype=object),\n",
       " 'params': [{'clf__learning_rate': 1.0, 'clf__n_estimators': 30},\n",
       "  {'clf__learning_rate': 1.0, 'clf__n_estimators': 50},\n",
       "  {'clf__learning_rate': 1.0, 'clf__n_estimators': 70},\n",
       "  {'clf__learning_rate': 0.5, 'clf__n_estimators': 30},\n",
       "  {'clf__learning_rate': 0.5, 'clf__n_estimators': 50},\n",
       "  {'clf__learning_rate': 0.5, 'clf__n_estimators': 70},\n",
       "  {'clf__learning_rate': 0.1, 'clf__n_estimators': 30},\n",
       "  {'clf__learning_rate': 0.1, 'clf__n_estimators': 50},\n",
       "  {'clf__learning_rate': 0.1, 'clf__n_estimators': 70}],\n",
       " 'split0_test_score': array([0.61076103, 0.61034554, 0.61678554, 0.66692057, 0.66982896,\n",
       "        0.68229347, 0.53812063, 0.60619071, 0.63001177]),\n",
       " 'split1_test_score': array([0.63256684, 0.61663665, 0.60243801, 0.65653138, 0.66885995,\n",
       "        0.67502424, 0.54224962, 0.59738191, 0.62113866]),\n",
       " 'split2_test_score': array([0.62708694, 0.61697264, 0.61600277, 0.6474541 , 0.66608937,\n",
       "        0.66408036, 0.54090752, 0.60353308, 0.62528576]),\n",
       " 'mean_test_score': array([0.62347047, 0.61465115, 0.61174216, 0.65697003, 0.66825969,\n",
       "        0.67380062, 0.54042573, 0.60236875, 0.62547906]),\n",
       " 'std_test_score': array([0.00926253, 0.00304809, 0.00658678, 0.0079532 , 0.00158459,\n",
       "        0.00748564, 0.00171981, 0.00368937, 0.0036252 ]),\n",
       " 'rank_test_score': array([5, 6, 7, 3, 2, 1, 9, 8, 4], dtype=int32),\n",
       " 'split0_train_score': array([0.60444013, 0.60856163, 0.61884806, 0.66120597, 0.66858311,\n",
       "        0.68143248, 0.53801129, 0.60045717, 0.62650227]),\n",
       " 'split1_train_score': array([0.6339867 , 0.61649813, 0.60274969, 0.65995983, 0.67000277,\n",
       "        0.67869511, 0.54325391, 0.59783211, 0.62190054]),\n",
       " 'split2_train_score': array([0.63617161, 0.62031234, 0.61626095, 0.65473181, 0.67093736,\n",
       "        0.67024481, 0.54759514, 0.61002805, 0.62945393]),\n",
       " 'mean_train_score': array([0.62486615, 0.61512403, 0.61261957, 0.65863254, 0.66984108,\n",
       "        0.6767908 , 0.54295345, 0.60277244, 0.62595225]),\n",
       " 'std_train_score': array([0.01447089, 0.00489461, 0.00705852, 0.00280475, 0.0009679 ,\n",
       "        0.00476171, 0.00391835, 0.00524122, 0.00310809])}"
      ]
     },
     "execution_count": 30,
     "metadata": {},
     "output_type": "execute_result"
    }
   ],
   "source": [
    "gs_ab.cv_results_"
   ]
  },
  {
   "cell_type": "markdown",
   "metadata": {},
   "source": [
    "## Note\n",
    "\n",
    "Note that this solution is only one of many options. The results in the Random Forest and Adaboost models show that there is a lot of improvement possible tuning the hyperparameters further, so make sure to explore this yourself!"
   ]
  },
  {
   "cell_type": "markdown",
   "metadata": {},
   "source": [
    "## Summary \n",
    "\n",
    "Great! You now got a lot of practice in. What algorithm would you choose and why?"
   ]
  }
 ],
 "metadata": {
  "kernelspec": {
   "display_name": "Python 3",
   "language": "python",
   "name": "python3"
  },
  "language_info": {
   "codemirror_mode": {
    "name": "ipython",
    "version": 3
   },
   "file_extension": ".py",
   "mimetype": "text/x-python",
   "name": "python",
   "nbconvert_exporter": "python",
   "pygments_lexer": "ipython3",
<<<<<<< HEAD
   "version": "3.6.5"
=======
   "version": "3.6.6"
>>>>>>> 358e322ebef3245e54ba4a24da980a3f20a70f19
  }
 },
 "nbformat": 4,
 "nbformat_minor": 2
}
